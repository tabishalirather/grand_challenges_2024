{
 "cells": [
  {
   "cell_type": "code",
   "id": "47900681-c906-421e-af84-a183025898f8",
   "metadata": {
    "ExecuteTime": {
     "end_time": "2024-10-07T02:33:29.316810Z",
     "start_time": "2024-10-07T02:33:29.294102Z"
    }
   },
   "source": [
    "import pandas as pd\n",
    "from sklearn.preprocessing import MinMaxScaler\n",
    "from tensorflow.keras.models import Model\n",
    "from tensorflow.keras.layers import Input, Dense, LeakyReLU\n",
    "import yfinance as yf"
   ],
   "outputs": [],
   "execution_count": 10
  },
  {
   "cell_type": "code",
   "id": "55412ad6-788c-4c50-ba9f-54a69a17db83",
   "metadata": {
    "ExecuteTime": {
     "end_time": "2024-10-07T02:33:29.412478Z",
     "start_time": "2024-10-07T02:33:29.319328Z"
    }
   },
   "source": [
    "# Step 1:Download historical data for a specific stock (e.g., TESLA)\n",
    "df = yf.download('TSLA', start='2020-01-01', end='2023-01-01')\n",
    "df_test = yf.download('TSLA', start='2023-12-01', end='2024-01-01')\n",
    "\n",
    "# Save data to a CSV file\n",
    "df.to_csv('TSLA_historical.csv')\n",
    "df_test.to_csv('TSLA_historical_Dec2023_Jan2024.csv')    "
   ],
   "outputs": [
    {
     "name": "stderr",
     "output_type": "stream",
     "text": [
      "[*********************100%***********************]  1 of 1 completed\n",
      "[*********************100%***********************]  1 of 1 completed\n"
     ]
    }
   ],
   "execution_count": 11
  },
  {
   "cell_type": "code",
   "id": "90366694-4b0f-4d06-8e7f-f2fd6c767e83",
   "metadata": {
    "ExecuteTime": {
     "end_time": "2024-10-07T02:33:29.500669Z",
     "start_time": "2024-10-07T02:33:29.469275Z"
    }
   },
   "source": [
    "# Step 2: Process stock data\n",
    "# Keeping only relevant features (e.g., 'Open', 'Close', 'Volume')\n",
    "df = df[['Open', 'Close', 'Volume']].reset_index(drop=True)\n",
    "df_test = df_test[['Open', 'Close', 'Volume']].reset_index(drop=True)\n",
    "print(df.head())"
   ],
   "outputs": [
    {
     "name": "stdout",
     "output_type": "stream",
     "text": [
      "        Open      Close     Volume\n",
      "0  28.299999  28.684000  142981500\n",
      "1  29.366667  29.534000  266677500\n",
      "2  29.364668  30.102667  151995000\n",
      "3  30.760000  31.270666  268231500\n",
      "4  31.580000  32.809334  467164500\n"
     ]
    }
   ],
   "execution_count": 12
  },
  {
   "cell_type": "code",
   "id": "0c7b9e9b-f22c-4baa-961e-e26d6053982d",
   "metadata": {
    "ExecuteTime": {
     "end_time": "2024-10-07T02:33:29.595769Z",
     "start_time": "2024-10-07T02:33:29.581013Z"
    }
   },
   "source": [
    "print(f\"Shape of the train set: {df.shape}\")"
   ],
   "outputs": [
    {
     "name": "stdout",
     "output_type": "stream",
     "text": [
      "Shape of the train set: (756, 3)\n"
     ]
    }
   ],
   "execution_count": 13
  },
  {
   "cell_type": "code",
   "id": "0a5fca45-5fcb-4a08-8a07-e586df4d65d0",
   "metadata": {
    "ExecuteTime": {
     "end_time": "2024-10-07T02:33:29.632141Z",
     "start_time": "2024-10-07T02:33:29.611401Z"
    }
   },
   "source": [
    "# Step 3: Apply MinMaxScaler normalization\n",
    "scaler = MinMaxScaler()\n",
    "df_features = scaler.fit_transform(df)\n",
    "df_features_test = scaler.transform(df_test)\n",
    "print(df_features)\n",
    "print(df_features_test)"
   ],
   "outputs": [
    {
     "name": "stdout",
     "output_type": "stream",
     "text": [
      "[[0.00859013 0.01192745 0.12838504]\n",
      " [0.01135001 0.01413016 0.26820505]\n",
      " [0.01134484 0.01560381 0.13857346]\n",
      " ...\n",
      " [0.2208854  0.22967419 0.21665309]\n",
      " [0.24686279 0.25328203 0.21761706]\n",
      " [0.24572433 0.25680637 0.1451095 ]]\n",
      "[[0.53859091 0.55650421 0.10373432]\n",
      " [0.54534399 0.54808209 0.08443503]\n",
      " [0.54047969 0.55621915 0.12272152]\n",
      " [0.56389557 0.55790356 0.10968302]\n",
      " [0.56035086 0.56637752 0.08787413]\n",
      " [0.557039   0.56948722 0.08316938]\n",
      " [0.56342986 0.55886241 0.07744279]\n",
      " [0.55258869 0.55178781 0.07452015]\n",
      " [0.54130767 0.55769624 0.13212062]\n",
      " [0.55949701 0.58817138 0.14855922]\n",
      " [0.58534504 0.59452035 0.12017789]\n",
      " [0.59199461 0.59084054 0.09835724]\n",
      " [0.59121839 0.60416044 0.08741645]\n",
      " [0.59879946 0.57803891 0.10816926]\n",
      " [0.58713031 0.59711177 0.09064564]\n",
      " [0.59970506 0.59203257 0.07217071]\n",
      " [0.59383168 0.60257963 0.06498461]\n",
      " [0.603819   0.61509624 0.08714177]\n",
      " [0.61755803 0.59369108 0.09519609]\n",
      " [0.59540999 0.58151141 0.08049632]]\n"
     ]
    }
   ],
   "execution_count": 14
  },
  {
   "cell_type": "code",
   "id": "9abd4352-b863-4109-828c-c3fb2949987c",
   "metadata": {
    "ExecuteTime": {
     "end_time": "2024-10-07T02:33:29.804153Z",
     "start_time": "2024-10-07T02:33:29.651959Z"
    }
   },
   "source": [
    "# Step 4: Autoencoder Model Implementation\n",
    "# Input from df_features, dense64, leakyrelu, dense32, leakyrelu, dense16, tanh\n",
    "input = Input(shape=df_features.shape[1:])\n",
    "enc = Dense(64)(input)\n",
    "enc = LeakyReLU()(enc)\n",
    "enc = Dense(32)(enc)\n",
    "enc = LeakyReLU()(enc)\n",
    "\n",
    "# Latent space with tanh activation\n",
    "latent_space = Dense(16, activation=\"tanh\")(enc)\n",
    "\n",
    "dec = Dense(32)(latent_space)\n",
    "dec = LeakyReLU()(dec)\n",
    "dec = Dense(64)(dec)\n",
    "dec = LeakyReLU()(dec)\n",
    "\n",
    "# Output layer to match the number of features\n",
    "dec = Dense(units=df_features.shape[1], activation=\"sigmoid\")(dec)"
   ],
   "outputs": [],
   "execution_count": 15
  },
  {
   "cell_type": "code",
   "id": "39278bc0-8eb4-47ac-abc5-e7dd62979e81",
   "metadata": {
    "ExecuteTime": {
     "end_time": "2024-10-07T02:33:29.835404Z",
     "start_time": "2024-10-07T02:33:29.819779Z"
    }
   },
   "source": [
    "# Step 5: Initialize and compile the autoencoder\n",
    "autoencoder = Model(input, dec)\n",
    "autoencoder.compile(optimizer=\"adam\", metrics=[\"mse\"], loss=\"mse\")"
   ],
   "outputs": [],
   "execution_count": 16
  },
  {
   "cell_type": "code",
   "id": "77cd6304-03e3-4ab1-b1b9-41ec4546a648",
   "metadata": {
    "ExecuteTime": {
     "end_time": "2024-10-07T02:33:34.622915Z",
     "start_time": "2024-10-07T02:33:29.851030Z"
    }
   },
   "source": [
    "# Step 6: Train the autoencoder\n",
    "autoencoder.fit(df_features, df_features, epochs=50, batch_size=32, validation_split=0.25)"
   ],
   "outputs": [
    {
     "name": "stdout",
     "output_type": "stream",
     "text": [
      "Epoch 1/50\n",
      "\u001B[1m18/18\u001B[0m \u001B[32m━━━━━━━━━━━━━━━━━━━━\u001B[0m\u001B[37m\u001B[0m \u001B[1m1s\u001B[0m 9ms/step - loss: 0.0964 - mse: 0.0964 - val_loss: 0.0525 - val_mse: 0.0525\n",
      "Epoch 2/50\n",
      "\u001B[1m18/18\u001B[0m \u001B[32m━━━━━━━━━━━━━━━━━━━━\u001B[0m\u001B[37m\u001B[0m \u001B[1m0s\u001B[0m 2ms/step - loss: 0.0617 - mse: 0.0617 - val_loss: 0.0114 - val_mse: 0.0114\n",
      "Epoch 3/50\n",
      "\u001B[1m18/18\u001B[0m \u001B[32m━━━━━━━━━━━━━━━━━━━━\u001B[0m\u001B[37m\u001B[0m \u001B[1m0s\u001B[0m 3ms/step - loss: 0.0304 - mse: 0.0304 - val_loss: 0.0016 - val_mse: 0.0016\n",
      "Epoch 4/50\n",
      "\u001B[1m18/18\u001B[0m \u001B[32m━━━━━━━━━━━━━━━━━━━━\u001B[0m\u001B[37m\u001B[0m \u001B[1m0s\u001B[0m 3ms/step - loss: 0.0082 - mse: 0.0082 - val_loss: 0.0019 - val_mse: 0.0019\n",
      "Epoch 5/50\n",
      "\u001B[1m18/18\u001B[0m \u001B[32m━━━━━━━━━━━━━━━━━━━━\u001B[0m\u001B[37m\u001B[0m \u001B[1m0s\u001B[0m 3ms/step - loss: 0.0063 - mse: 0.0063 - val_loss: 0.0013 - val_mse: 0.0013\n",
      "Epoch 6/50\n",
      "\u001B[1m18/18\u001B[0m \u001B[32m━━━━━━━━━━━━━━━━━━━━\u001B[0m\u001B[37m\u001B[0m \u001B[1m0s\u001B[0m 3ms/step - loss: 0.0055 - mse: 0.0055 - val_loss: 7.1077e-04 - val_mse: 7.1077e-04\n",
      "Epoch 7/50\n",
      "\u001B[1m18/18\u001B[0m \u001B[32m━━━━━━━━━━━━━━━━━━━━\u001B[0m\u001B[37m\u001B[0m \u001B[1m0s\u001B[0m 3ms/step - loss: 0.0035 - mse: 0.0035 - val_loss: 5.2561e-04 - val_mse: 5.2561e-04\n",
      "Epoch 8/50\n",
      "\u001B[1m18/18\u001B[0m \u001B[32m━━━━━━━━━━━━━━━━━━━━\u001B[0m\u001B[37m\u001B[0m \u001B[1m0s\u001B[0m 2ms/step - loss: 0.0031 - mse: 0.0031 - val_loss: 4.4107e-04 - val_mse: 4.4107e-04\n",
      "Epoch 9/50\n",
      "\u001B[1m18/18\u001B[0m \u001B[32m━━━━━━━━━━━━━━━━━━━━\u001B[0m\u001B[37m\u001B[0m \u001B[1m0s\u001B[0m 3ms/step - loss: 0.0024 - mse: 0.0024 - val_loss: 4.4624e-04 - val_mse: 4.4624e-04\n",
      "Epoch 10/50\n",
      "\u001B[1m18/18\u001B[0m \u001B[32m━━━━━━━━━━━━━━━━━━━━\u001B[0m\u001B[37m\u001B[0m \u001B[1m0s\u001B[0m 3ms/step - loss: 0.0022 - mse: 0.0022 - val_loss: 4.5540e-04 - val_mse: 4.5540e-04\n",
      "Epoch 11/50\n",
      "\u001B[1m18/18\u001B[0m \u001B[32m━━━━━━━━━━━━━━━━━━━━\u001B[0m\u001B[37m\u001B[0m \u001B[1m0s\u001B[0m 4ms/step - loss: 0.0021 - mse: 0.0021 - val_loss: 4.1085e-04 - val_mse: 4.1085e-04\n",
      "Epoch 12/50\n",
      "\u001B[1m18/18\u001B[0m \u001B[32m━━━━━━━━━━━━━━━━━━━━\u001B[0m\u001B[37m\u001B[0m \u001B[1m0s\u001B[0m 3ms/step - loss: 0.0016 - mse: 0.0016 - val_loss: 3.7982e-04 - val_mse: 3.7982e-04\n",
      "Epoch 13/50\n",
      "\u001B[1m18/18\u001B[0m \u001B[32m━━━━━━━━━━━━━━━━━━━━\u001B[0m\u001B[37m\u001B[0m \u001B[1m0s\u001B[0m 2ms/step - loss: 0.0015 - mse: 0.0015 - val_loss: 3.7861e-04 - val_mse: 3.7861e-04\n",
      "Epoch 14/50\n",
      "\u001B[1m18/18\u001B[0m \u001B[32m━━━━━━━━━━━━━━━━━━━━\u001B[0m\u001B[37m\u001B[0m \u001B[1m0s\u001B[0m 3ms/step - loss: 0.0015 - mse: 0.0015 - val_loss: 4.5377e-04 - val_mse: 4.5377e-04\n",
      "Epoch 15/50\n",
      "\u001B[1m18/18\u001B[0m \u001B[32m━━━━━━━━━━━━━━━━━━━━\u001B[0m\u001B[37m\u001B[0m \u001B[1m0s\u001B[0m 3ms/step - loss: 0.0012 - mse: 0.0012 - val_loss: 3.7623e-04 - val_mse: 3.7623e-04\n",
      "Epoch 16/50\n",
      "\u001B[1m18/18\u001B[0m \u001B[32m━━━━━━━━━━━━━━━━━━━━\u001B[0m\u001B[37m\u001B[0m \u001B[1m0s\u001B[0m 3ms/step - loss: 9.4605e-04 - mse: 9.4605e-04 - val_loss: 3.9894e-04 - val_mse: 3.9894e-04\n",
      "Epoch 17/50\n",
      "\u001B[1m18/18\u001B[0m \u001B[32m━━━━━━━━━━━━━━━━━━━━\u001B[0m\u001B[37m\u001B[0m \u001B[1m0s\u001B[0m 2ms/step - loss: 9.3491e-04 - mse: 9.3491e-04 - val_loss: 3.6250e-04 - val_mse: 3.6250e-04\n",
      "Epoch 18/50\n",
      "\u001B[1m18/18\u001B[0m \u001B[32m━━━━━━━━━━━━━━━━━━━━\u001B[0m\u001B[37m\u001B[0m \u001B[1m0s\u001B[0m 3ms/step - loss: 8.8108e-04 - mse: 8.8108e-04 - val_loss: 2.8916e-04 - val_mse: 2.8916e-04\n",
      "Epoch 19/50\n",
      "\u001B[1m18/18\u001B[0m \u001B[32m━━━━━━━━━━━━━━━━━━━━\u001B[0m\u001B[37m\u001B[0m \u001B[1m0s\u001B[0m 3ms/step - loss: 6.7423e-04 - mse: 6.7423e-04 - val_loss: 2.7390e-04 - val_mse: 2.7390e-04\n",
      "Epoch 20/50\n",
      "\u001B[1m18/18\u001B[0m \u001B[32m━━━━━━━━━━━━━━━━━━━━\u001B[0m\u001B[37m\u001B[0m \u001B[1m0s\u001B[0m 2ms/step - loss: 6.0729e-04 - mse: 6.0729e-04 - val_loss: 2.5937e-04 - val_mse: 2.5937e-04\n",
      "Epoch 21/50\n",
      "\u001B[1m18/18\u001B[0m \u001B[32m━━━━━━━━━━━━━━━━━━━━\u001B[0m\u001B[37m\u001B[0m \u001B[1m0s\u001B[0m 3ms/step - loss: 5.7444e-04 - mse: 5.7444e-04 - val_loss: 2.2673e-04 - val_mse: 2.2673e-04\n",
      "Epoch 22/50\n",
      "\u001B[1m18/18\u001B[0m \u001B[32m━━━━━━━━━━━━━━━━━━━━\u001B[0m\u001B[37m\u001B[0m \u001B[1m0s\u001B[0m 2ms/step - loss: 5.2807e-04 - mse: 5.2807e-04 - val_loss: 2.0822e-04 - val_mse: 2.0822e-04\n",
      "Epoch 23/50\n",
      "\u001B[1m18/18\u001B[0m \u001B[32m━━━━━━━━━━━━━━━━━━━━\u001B[0m\u001B[37m\u001B[0m \u001B[1m0s\u001B[0m 2ms/step - loss: 4.7306e-04 - mse: 4.7306e-04 - val_loss: 1.9586e-04 - val_mse: 1.9586e-04\n",
      "Epoch 24/50\n",
      "\u001B[1m18/18\u001B[0m \u001B[32m━━━━━━━━━━━━━━━━━━━━\u001B[0m\u001B[37m\u001B[0m \u001B[1m0s\u001B[0m 3ms/step - loss: 4.4500e-04 - mse: 4.4500e-04 - val_loss: 2.3975e-04 - val_mse: 2.3975e-04\n",
      "Epoch 25/50\n",
      "\u001B[1m18/18\u001B[0m \u001B[32m━━━━━━━━━━━━━━━━━━━━\u001B[0m\u001B[37m\u001B[0m \u001B[1m0s\u001B[0m 3ms/step - loss: 3.8057e-04 - mse: 3.8057e-04 - val_loss: 1.7932e-04 - val_mse: 1.7932e-04\n",
      "Epoch 26/50\n",
      "\u001B[1m18/18\u001B[0m \u001B[32m━━━━━━━━━━━━━━━━━━━━\u001B[0m\u001B[37m\u001B[0m \u001B[1m0s\u001B[0m 2ms/step - loss: 3.3059e-04 - mse: 3.3059e-04 - val_loss: 1.9606e-04 - val_mse: 1.9606e-04\n",
      "Epoch 27/50\n",
      "\u001B[1m18/18\u001B[0m \u001B[32m━━━━━━━━━━━━━━━━━━━━\u001B[0m\u001B[37m\u001B[0m \u001B[1m0s\u001B[0m 3ms/step - loss: 3.0796e-04 - mse: 3.0796e-04 - val_loss: 1.7064e-04 - val_mse: 1.7064e-04\n",
      "Epoch 28/50\n",
      "\u001B[1m18/18\u001B[0m \u001B[32m━━━━━━━━━━━━━━━━━━━━\u001B[0m\u001B[37m\u001B[0m \u001B[1m0s\u001B[0m 2ms/step - loss: 3.3728e-04 - mse: 3.3728e-04 - val_loss: 1.7030e-04 - val_mse: 1.7030e-04\n",
      "Epoch 29/50\n",
      "\u001B[1m18/18\u001B[0m \u001B[32m━━━━━━━━━━━━━━━━━━━━\u001B[0m\u001B[37m\u001B[0m \u001B[1m0s\u001B[0m 3ms/step - loss: 3.1604e-04 - mse: 3.1604e-04 - val_loss: 1.7395e-04 - val_mse: 1.7395e-04\n",
      "Epoch 30/50\n",
      "\u001B[1m18/18\u001B[0m \u001B[32m━━━━━━━━━━━━━━━━━━━━\u001B[0m\u001B[37m\u001B[0m \u001B[1m0s\u001B[0m 3ms/step - loss: 2.8007e-04 - mse: 2.8007e-04 - val_loss: 1.7174e-04 - val_mse: 1.7174e-04\n",
      "Epoch 31/50\n",
      "\u001B[1m18/18\u001B[0m \u001B[32m━━━━━━━━━━━━━━━━━━━━\u001B[0m\u001B[37m\u001B[0m \u001B[1m0s\u001B[0m 3ms/step - loss: 2.6014e-04 - mse: 2.6014e-04 - val_loss: 1.6518e-04 - val_mse: 1.6518e-04\n",
      "Epoch 32/50\n",
      "\u001B[1m18/18\u001B[0m \u001B[32m━━━━━━━━━━━━━━━━━━━━\u001B[0m\u001B[37m\u001B[0m \u001B[1m0s\u001B[0m 3ms/step - loss: 2.7571e-04 - mse: 2.7571e-04 - val_loss: 1.5218e-04 - val_mse: 1.5218e-04\n",
      "Epoch 33/50\n",
      "\u001B[1m18/18\u001B[0m \u001B[32m━━━━━━━━━━━━━━━━━━━━\u001B[0m\u001B[37m\u001B[0m \u001B[1m0s\u001B[0m 3ms/step - loss: 2.3003e-04 - mse: 2.3003e-04 - val_loss: 1.4953e-04 - val_mse: 1.4953e-04\n",
      "Epoch 34/50\n",
      "\u001B[1m18/18\u001B[0m \u001B[32m━━━━━━━━━━━━━━━━━━━━\u001B[0m\u001B[37m\u001B[0m \u001B[1m0s\u001B[0m 2ms/step - loss: 2.5726e-04 - mse: 2.5726e-04 - val_loss: 1.5095e-04 - val_mse: 1.5095e-04\n",
      "Epoch 35/50\n",
      "\u001B[1m18/18\u001B[0m \u001B[32m━━━━━━━━━━━━━━━━━━━━\u001B[0m\u001B[37m\u001B[0m \u001B[1m0s\u001B[0m 3ms/step - loss: 2.2200e-04 - mse: 2.2200e-04 - val_loss: 1.4008e-04 - val_mse: 1.4008e-04\n",
      "Epoch 36/50\n",
      "\u001B[1m18/18\u001B[0m \u001B[32m━━━━━━━━━━━━━━━━━━━━\u001B[0m\u001B[37m\u001B[0m \u001B[1m0s\u001B[0m 3ms/step - loss: 2.1470e-04 - mse: 2.1470e-04 - val_loss: 1.3603e-04 - val_mse: 1.3603e-04\n",
      "Epoch 37/50\n",
      "\u001B[1m18/18\u001B[0m \u001B[32m━━━━━━━━━━━━━━━━━━━━\u001B[0m\u001B[37m\u001B[0m \u001B[1m0s\u001B[0m 3ms/step - loss: 2.0524e-04 - mse: 2.0524e-04 - val_loss: 1.3790e-04 - val_mse: 1.3790e-04\n",
      "Epoch 38/50\n",
      "\u001B[1m18/18\u001B[0m \u001B[32m━━━━━━━━━━━━━━━━━━━━\u001B[0m\u001B[37m\u001B[0m \u001B[1m0s\u001B[0m 2ms/step - loss: 2.1160e-04 - mse: 2.1160e-04 - val_loss: 1.3557e-04 - val_mse: 1.3557e-04\n",
      "Epoch 39/50\n",
      "\u001B[1m18/18\u001B[0m \u001B[32m━━━━━━━━━━━━━━━━━━━━\u001B[0m\u001B[37m\u001B[0m \u001B[1m0s\u001B[0m 3ms/step - loss: 1.8824e-04 - mse: 1.8824e-04 - val_loss: 1.2767e-04 - val_mse: 1.2767e-04\n",
      "Epoch 40/50\n",
      "\u001B[1m18/18\u001B[0m \u001B[32m━━━━━━━━━━━━━━━━━━━━\u001B[0m\u001B[37m\u001B[0m \u001B[1m0s\u001B[0m 4ms/step - loss: 1.7517e-04 - mse: 1.7517e-04 - val_loss: 1.3763e-04 - val_mse: 1.3763e-04\n",
      "Epoch 41/50\n",
      "\u001B[1m18/18\u001B[0m \u001B[32m━━━━━━━━━━━━━━━━━━━━\u001B[0m\u001B[37m\u001B[0m \u001B[1m0s\u001B[0m 3ms/step - loss: 1.7574e-04 - mse: 1.7574e-04 - val_loss: 1.2196e-04 - val_mse: 1.2196e-04\n",
      "Epoch 42/50\n",
      "\u001B[1m18/18\u001B[0m \u001B[32m━━━━━━━━━━━━━━━━━━━━\u001B[0m\u001B[37m\u001B[0m \u001B[1m0s\u001B[0m 3ms/step - loss: 1.7203e-04 - mse: 1.7203e-04 - val_loss: 1.8746e-04 - val_mse: 1.8746e-04\n",
      "Epoch 43/50\n",
      "\u001B[1m18/18\u001B[0m \u001B[32m━━━━━━━━━━━━━━━━━━━━\u001B[0m\u001B[37m\u001B[0m \u001B[1m0s\u001B[0m 3ms/step - loss: 2.0694e-04 - mse: 2.0694e-04 - val_loss: 1.4740e-04 - val_mse: 1.4740e-04\n",
      "Epoch 44/50\n",
      "\u001B[1m18/18\u001B[0m \u001B[32m━━━━━━━━━━━━━━━━━━━━\u001B[0m\u001B[37m\u001B[0m \u001B[1m0s\u001B[0m 3ms/step - loss: 1.9732e-04 - mse: 1.9732e-04 - val_loss: 1.2991e-04 - val_mse: 1.2991e-04\n",
      "Epoch 45/50\n",
      "\u001B[1m18/18\u001B[0m \u001B[32m━━━━━━━━━━━━━━━━━━━━\u001B[0m\u001B[37m\u001B[0m \u001B[1m0s\u001B[0m 3ms/step - loss: 1.6948e-04 - mse: 1.6948e-04 - val_loss: 1.3718e-04 - val_mse: 1.3718e-04\n",
      "Epoch 46/50\n",
      "\u001B[1m18/18\u001B[0m \u001B[32m━━━━━━━━━━━━━━━━━━━━\u001B[0m\u001B[37m\u001B[0m \u001B[1m0s\u001B[0m 3ms/step - loss: 1.7277e-04 - mse: 1.7277e-04 - val_loss: 1.2552e-04 - val_mse: 1.2552e-04\n",
      "Epoch 47/50\n",
      "\u001B[1m18/18\u001B[0m \u001B[32m━━━━━━━━━━━━━━━━━━━━\u001B[0m\u001B[37m\u001B[0m \u001B[1m0s\u001B[0m 3ms/step - loss: 1.7619e-04 - mse: 1.7619e-04 - val_loss: 1.3026e-04 - val_mse: 1.3026e-04\n",
      "Epoch 48/50\n",
      "\u001B[1m18/18\u001B[0m \u001B[32m━━━━━━━━━━━━━━━━━━━━\u001B[0m\u001B[37m\u001B[0m \u001B[1m0s\u001B[0m 3ms/step - loss: 2.0032e-04 - mse: 2.0032e-04 - val_loss: 1.1631e-04 - val_mse: 1.1631e-04\n",
      "Epoch 49/50\n",
      "\u001B[1m18/18\u001B[0m \u001B[32m━━━━━━━━━━━━━━━━━━━━\u001B[0m\u001B[37m\u001B[0m \u001B[1m0s\u001B[0m 3ms/step - loss: 1.7513e-04 - mse: 1.7513e-04 - val_loss: 1.2450e-04 - val_mse: 1.2450e-04\n",
      "Epoch 50/50\n",
      "\u001B[1m18/18\u001B[0m \u001B[32m━━━━━━━━━━━━━━━━━━━━\u001B[0m\u001B[37m\u001B[0m \u001B[1m0s\u001B[0m 3ms/step - loss: 1.3064e-04 - mse: 1.3064e-04 - val_loss: 1.1788e-04 - val_mse: 1.1788e-04\n"
     ]
    },
    {
     "data": {
      "text/plain": [
       "<keras.src.callbacks.history.History at 0x1f1194b99a0>"
      ]
     },
     "execution_count": 17,
     "metadata": {},
     "output_type": "execute_result"
    }
   ],
   "execution_count": 17
  },
  {
   "cell_type": "code",
   "id": "e1007450-64ce-4497-9e3e-b1ede7af9ab9",
   "metadata": {
    "ExecuteTime": {
     "end_time": "2024-10-07T02:33:34.701836Z",
     "start_time": "2024-10-07T02:33:34.670390Z"
    }
   },
   "source": [
    "# Step 7: Create encoder model to extract latent space features\n",
    "encoder = Model(input, latent_space)"
   ],
   "outputs": [],
   "execution_count": 18
  },
  {
   "cell_type": "code",
   "id": "3b9ad50b-6374-47f1-86e3-d878f3bc5f64",
   "metadata": {
    "ExecuteTime": {
     "end_time": "2024-10-07T02:33:34.796257Z",
     "start_time": "2024-10-07T02:33:34.717468Z"
    }
   },
   "source": [
    "# Step 8: Predict on test set (df_features_test)\n",
    "test_au_features = encoder.predict(df_features_test)"
   ],
   "outputs": [
    {
     "name": "stdout",
     "output_type": "stream",
     "text": [
      "\u001B[1m1/1\u001B[0m \u001B[32m━━━━━━━━━━━━━━━━━━━━\u001B[0m\u001B[37m\u001B[0m \u001B[1m0s\u001B[0m 29ms/step\n"
     ]
    }
   ],
   "execution_count": 19
  },
  {
   "cell_type": "code",
   "id": "47158102-12c5-4f9f-9ec3-820f69549e32",
   "metadata": {
    "ExecuteTime": {
     "end_time": "2024-10-07T02:33:34.831250Z",
     "start_time": "2024-10-07T02:33:34.812090Z"
    }
   },
   "source": [
    "# Step 9: Print the shape of the encoded test set features\n",
    "print(\"Encoded test set features shape:\", test_au_features.shape)"
   ],
   "outputs": [
    {
     "name": "stdout",
     "output_type": "stream",
     "text": [
      "Encoded test set features shape: (20, 16)\n"
     ]
    }
   ],
   "execution_count": 20
  },
  {
   "cell_type": "code",
   "id": "c763296f-69d3-4c91-bd46-c7cfc15c0894",
   "metadata": {
    "ExecuteTime": {
     "end_time": "2024-10-07T02:33:34.862989Z",
     "start_time": "2024-10-07T02:33:34.848011Z"
    }
   },
   "source": [],
   "outputs": [],
   "execution_count": null
  }
 ],
 "metadata": {
  "kernelspec": {
   "display_name": "Python 3 (ipykernel)",
   "language": "python",
   "name": "python3"
  },
  "language_info": {
   "codemirror_mode": {
    "name": "ipython",
    "version": 3
   },
   "file_extension": ".py",
   "mimetype": "text/x-python",
   "name": "python",
   "nbconvert_exporter": "python",
   "pygments_lexer": "ipython3",
   "version": "3.12.6"
  }
 },
 "nbformat": 4,
 "nbformat_minor": 5
}
