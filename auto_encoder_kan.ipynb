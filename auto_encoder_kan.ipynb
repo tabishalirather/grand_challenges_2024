{
 "cells": [
  {
   "metadata": {
    "ExecuteTime": {
     "end_time": "2024-10-14T01:12:52.927160Z",
     "start_time": "2024-10-14T01:12:52.912446Z"
    }
   },
   "cell_type": "code",
   "source": [
    "from threading import activeCount\n",
    "\n",
    "import numpy as np\n",
    "# from keras.src.layers import RepeatVector, TimeDistributed44\n",
    "# noinspection PyUnresolvedReferences\n",
    "\n",
    "from tensorflow.keras.layers import RepeatVector, TimeDistributed\n",
    "\n",
    "from torchgen.executorch.api.et_cpp import return_type\n",
    "\n",
    "from get_data import get_data\n",
    "# noinspection PyUnresolvedReferences\n",
    "from tensorflow.keras.layers import Input, Dense, LeakyReLU, LSTM\n",
    "# noinspection PyUnresolvedReferences\n",
    "\n",
    "from tensorflow.keras.models import Model\n"
   ],
   "id": "5557507da0fed843",
   "outputs": [],
   "execution_count": 89
  },
  {
   "metadata": {
    "collapsed": true,
    "ExecuteTime": {
     "end_time": "2024-10-14T01:12:53.004568Z",
     "start_time": "2024-10-14T01:12:52.942454Z"
    }
   },
   "cell_type": "code",
   "source": [
    "\n",
    "ticker = \"AMZN\"\n",
    "feature_columns = ['Open', 'High', 'Low', 'Close', 'Volume']\n",
    "start_date = '2017-01-01'\n",
    "end_date = '2023-01-01'\n",
    "seq_train_length = 10\n",
    "steps_to_predict = 2\n",
    "scale = True\n",
    "test_size = 0.2\n",
    "save_data = False\n",
    "split_by_date = False\n",
    "\n",
    "d_r = get_data(\n",
    "\tticker,\n",
    "\tfeature_columns,\n",
    "\tstart_date,\n",
    "\tend_date,\n",
    "\tseq_train_length,\n",
    "\tsteps_to_predict,\n",
    "\tscale,\n",
    "\ttest_size,\n",
    "\tsave_data,\n",
    "\tsplit_by_date\n",
    ")\n",
    "\n",
    "print(d_r[0].head(3))\n",
    "# print(d_r[1].head(3))\n"
   ],
   "id": "initial_id",
   "outputs": [
    {
     "name": "stderr",
     "output_type": "stream",
     "text": [
      "[*********************100%***********************]  1 of 1 completed"
     ]
    },
    {
     "name": "stdout",
     "output_type": "stream",
     "text": [
      "I am read_data\n",
      "Index(['Open', 'High', 'Low', 'Close', 'Adj Close', 'Volume'], dtype='object')\n",
      "after reset index\n",
      "Index(['Date', 'Open', 'High', 'Low', 'Close', 'Adj Close', 'Volume'], dtype='object')\n",
      "Open\n",
      "High\n",
      "Low\n",
      "Close\n",
      "Volume\n",
      "y shape is:  (1499, 2)\n",
      "calling train_test_split\n",
      "        Date      Open      High       Low     Close  Adj Close    Volume  \\\n",
      "0 2017-01-03  0.000000  0.000000  0.000000  0.000000  37.683498  0.168315   \n",
      "1 2017-01-04  0.000157  0.000305  0.002204  0.001179  37.859001  0.103879   \n",
      "2 2017-01-05  0.001216  0.007843  0.004259  0.008993  39.022499  0.315538   \n",
      "\n",
      "   date  future_1  future_2  \n",
      "0     0  0.001179  0.008993  \n",
      "1     1  0.008993  0.014212  \n",
      "2     2  0.014212  0.014524  \n"
     ]
    },
    {
     "name": "stderr",
     "output_type": "stream",
     "text": [
      "\n"
     ]
    }
   ],
   "execution_count": 90
  },
  {
   "metadata": {},
   "cell_type": "markdown",
   "source": "",
   "id": "a62a9e320b40da81"
  },
  {
   "metadata": {
    "ExecuteTime": {
     "end_time": "2024-10-14T01:12:53.052276Z",
     "start_time": "2024-10-14T01:12:53.038277Z"
    }
   },
   "cell_type": "code",
   "source": [
    "\n",
    "result_df = d_r[1]\n",
    "# print(result_df)\n",
    "\n",
    "x_train = result_df['X_train']\n",
    "y_train = result_df['y_train']\n",
    "x_test = result_df['X_test']\n",
    "y_test = result_df['y_test']\n",
    "\n",
    "print(\"X_train shape:\", result_df['X_train'].shape)\n",
    "print(\"Y_train shape:\", result_df['y_train'].shape)\n",
    "print(\"X_test shape:\", result_df['X_test'].shape)\n",
    "print(\"Y_test shape:\", result_df['y_test'].shape)\n",
    "\n",
    "print(\"First 3 elements of X_train:\", result_df['X_train'][:3])\n",
    "print(\"First 3 elements of Y_train:\", result_df['y_train'][:3])\n",
    "print(\"First 3 elements of X_test:\", result_df['X_test'][:3])\n",
    "print(\"First 3 elements of Y_test:\", result_df['y_test'][:3])\n",
    "\n",
    "\n"
   ],
   "id": "41c04f3fe5f260",
   "outputs": [
    {
     "name": "stdout",
     "output_type": "stream",
     "text": [
      "X_train shape: (1199, 10, 5)\n",
      "Y_train shape: (1199, 2)\n",
      "X_test shape: (300, 10, 5)\n",
      "Y_test shape: (300, 2)\n",
      "First 3 elements of X_train: [[[0.07313266 0.07334988 0.07018439 0.06825648 0.30622876]\n",
      "  [0.06767401 0.07020821 0.06906539 0.07197407 0.1649292 ]\n",
      "  [0.07383929 0.07522096 0.07747816 0.07711555 0.14611349]\n",
      "  [0.07735225 0.07729107 0.07944824 0.07692749 0.10635246]\n",
      "  [0.07492432 0.07553943 0.07647105 0.07539612 0.14351206]\n",
      "  [0.07364839 0.07267973 0.07209682 0.06948224 0.16776016]\n",
      "  [0.06814285 0.06856272 0.07017419 0.068777   0.15324828]\n",
      "  [0.06686024 0.06715944 0.06705798 0.06703744 0.1455779 ]\n",
      "  [0.06617372 0.0693921  0.07046244 0.07160802 0.11914918]\n",
      "  [0.06746639 0.06742481 0.07002161 0.06861918 0.11393995]]\n",
      "\n",
      " [[0.28032738 0.27804613 0.2830738  0.2816633  0.13941863]\n",
      "  [0.28200182 0.28173518 0.28629172 0.28690553 0.17572384]\n",
      "  [0.2848417  0.28425646 0.29017088 0.28726822 0.12345301]\n",
      "  [0.28568223 0.2827636  0.28828895 0.2851962  0.08815522]\n",
      "  [0.28334135 0.28279012 0.2890214  0.28473613 0.10381479]\n",
      "  [0.2779162  0.27503383 0.27721098 0.2761994  0.26755166]\n",
      "  [0.27446687 0.2772333  0.28109354 0.27994722 0.10771056]\n",
      "  [0.27549163 0.27710396 0.27984908 0.27809346 0.08073988]\n",
      "  [0.27574947 0.27363715 0.2795439  0.2756117  0.1123013 ]\n",
      "  [0.27697852 0.27644378 0.28052723 0.27933604 0.13032001]]\n",
      "\n",
      " [[0.5022505  0.52237654 0.50771594 0.5218757  0.3816255 ]\n",
      "  [0.5318277  0.56471777 0.5382339  0.55562943 0.71136916]\n",
      "  [0.5406453  0.544481   0.531798   0.5444834  0.44942838]\n",
      "  [0.546546   0.5594031  0.55554426 0.5507331  0.3117504 ]\n",
      "  [0.55547404 0.5538728  0.5194688  0.5287399  0.42052576]\n",
      "  [0.5395301  0.5424905  0.54365927 0.54061806 0.21237974]\n",
      "  [0.5499049  0.552516   0.5541981  0.5526944  0.26685667]\n",
      "  [0.5556047  0.5512586  0.55417097 0.5563112  0.18768531]\n",
      "  [0.56437874 0.5593699  0.5477283  0.5448193  0.30377397]\n",
      "  [0.5405683  0.53568965 0.52840036 0.52402496 0.2797873 ]]]\n",
      "First 3 elements of Y_train: [[0.06675535 0.06434076]\n",
      " [0.27797257 0.28484357]\n",
      " [0.54371437 0.57773009]]\n",
      "First 3 elements of X_test: [[[0.81506187 0.81485707 0.8097414  0.82153916 0.29359782]\n",
      "  [0.83492064 0.8577489  0.7869173  0.78929996 0.43606418]\n",
      "  [0.7806489  0.78578913 0.74677277 0.7825834  0.4049172 ]\n",
      "  [0.777712   0.7761584  0.75463283 0.7573529  0.31291085]\n",
      "  [0.7411522  0.7541469  0.73599994 0.7543405  0.35150507]\n",
      "  [0.7538579  0.7514928  0.7462472  0.74160266 0.2473906 ]\n",
      "  [0.7509109  0.81033194 0.76169944 0.82047796 0.42827266]\n",
      "  [0.82870185 0.8233433  0.79957545 0.80081546 0.33410484]\n",
      "  [0.7927048  0.7932933  0.785856   0.78792644 0.2054936 ]\n",
      "  [0.7837533  0.77613187 0.7535545  0.7498573  0.30449447]]\n",
      "\n",
      " [[0.02206908 0.02297037 0.02548246 0.02478056 0.09872033]\n",
      "  [0.0246812  0.02794661 0.02741526 0.02782648 0.20985481]\n",
      "  [0.02648287 0.0263907  0.02839859 0.02777947 0.12185262]\n",
      "  [0.02547823 0.02788356 0.02886315 0.02989851 0.13310635]\n",
      "  [0.02810373 0.0286101  0.03108758 0.03038212 0.11689843]\n",
      "  [0.02815731 0.02936316 0.03154533 0.03069444 0.1422496 ]\n",
      "  [0.03044796 0.0329162  0.03375618 0.03451275 0.16746049]\n",
      "  [0.03316388 0.03306551 0.0354279  0.03423402 0.11066904]\n",
      "  [0.03337152 0.03387165 0.03401051 0.03308551 0.16454662]\n",
      "  [0.02905817 0.02887882 0.03053486 0.03075153 0.1789565 ]]\n",
      "\n",
      " [[0.11382481 0.11384989 0.11500836 0.11436526 0.17875884]\n",
      "  [0.11159446 0.11741287 0.11556786 0.12020192 0.18300529]\n",
      "  [0.11762244 0.12163606 0.12243439 0.12324449 0.15938841]\n",
      "  [0.12284333 0.12335782 0.12539463 0.12408742 0.11525979]\n",
      "  [0.12220034 0.12499668 0.12594058 0.12734827 0.10840555]\n",
      "  [0.12325189 0.12303271 0.12480802 0.12608893 0.1818066 ]\n",
      "  [0.12329878 0.12373935 0.12761904 0.12481952 0.08279934]\n",
      "  [0.12226064 0.1264431  0.12703581 0.12610236 0.12988645]\n",
      "  [0.12464168 0.1258128  0.1275614  0.12867813 0.14391375]\n",
      "  [0.12360351 0.12373935 0.12679507 0.1252695  0.19430365]]]\n",
      "First 3 elements of Y_test: [[0.75736632 0.77291504]\n",
      " [0.03189332 0.03068435]\n",
      " [0.12882925 0.12634079]]\n"
     ]
    }
   ],
   "execution_count": 91
  },
  {
   "metadata": {
    "ExecuteTime": {
     "end_time": "2024-10-14T01:12:53.099828Z",
     "start_time": "2024-10-14T01:12:53.086311Z"
    }
   },
   "cell_type": "code",
   "source": [
    "num_time_steps = x_train.shape[1]\n",
    "num_features = x_train.shape[2]\n",
    "print(num_time_steps, num_features)\n",
    "auto_encode_input = Input(shape=(num_time_steps, num_features))\n"
   ],
   "id": "81e735b8ed43012a",
   "outputs": [
    {
     "name": "stdout",
     "output_type": "stream",
     "text": [
      "10 5\n"
     ]
    }
   ],
   "execution_count": 92
  },
  {
   "metadata": {
    "ExecuteTime": {
     "end_time": "2024-10-14T01:12:53.162729Z",
     "start_time": "2024-10-14T01:12:53.132637Z"
    }
   },
   "cell_type": "code",
   "source": [
    "encoder = LSTM(64, return_sequences = True)(auto_encode_input)\n",
    "encoder = LSTM(32, return_sequences = True)(encoder)\n",
    "encoder = LSTM(16, return_sequences = False)(encoder)\n",
    "# encoder = LSTM()(encoder)"
   ],
   "id": "7175b03138c9e16e",
   "outputs": [],
   "execution_count": 93
  },
  {
   "metadata": {
    "ExecuteTime": {
     "end_time": "2024-10-14T01:12:53.209388Z",
     "start_time": "2024-10-14T01:12:53.196157Z"
    }
   },
   "cell_type": "code",
   "source": [
    "latent_space = Dense(16, activation = \"relu\")(encoder)\n",
    "\n"
   ],
   "id": "de27067ccf182632",
   "outputs": [],
   "execution_count": 94
  },
  {
   "metadata": {
    "ExecuteTime": {
     "end_time": "2024-10-14T01:12:53.272280Z",
     "start_time": "2024-10-14T01:12:53.243281Z"
    }
   },
   "cell_type": "code",
   "source": [
    "decoder = RepeatVector(num_time_steps)(latent_space)\n",
    "decoder = LSTM(32, return_sequences = True)(decoder)\n",
    "decoder = LSTM(64, return_sequences = True)(decoder)\n",
    "decoder = TimeDistributed(Dense(num_features, activation = \"linear\"))(decoder)"
   ],
   "id": "79deef99cbfe2f1c",
   "outputs": [],
   "execution_count": 95
  },
  {
   "metadata": {
    "ExecuteTime": {
     "end_time": "2024-10-14T01:12:53.317473Z",
     "start_time": "2024-10-14T01:12:53.303219Z"
    }
   },
   "cell_type": "code",
   "source": "# decoder = Dense(num_features, activation = \"sigmoid\")(decoder)",
   "id": "989dfdca0ba111fb",
   "outputs": [],
   "execution_count": 96
  },
  {
   "metadata": {
    "ExecuteTime": {
     "end_time": "2024-10-14T01:12:53.363139Z",
     "start_time": "2024-10-14T01:12:53.349359Z"
    }
   },
   "cell_type": "code",
   "source": [
    "autoecoder = Model(inputs = auto_encode_input, outputs = decoder)\n",
    "autoecoder.compile(optimizer = \"adam\", loss = \"mse\")"
   ],
   "id": "b8fa1e1f010eba1a",
   "outputs": [],
   "execution_count": 97
  },
  {
   "metadata": {
    "ExecuteTime": {
     "end_time": "2024-10-14T01:13:18.169082Z",
     "start_time": "2024-10-14T01:12:53.396378Z"
    }
   },
   "cell_type": "code",
   "source": "autoecoder.fit(x_train, x_train, epochs = 50, batch_size = 32, validation_data = (x_test, x_test))",
   "id": "449cdad247f0be15",
   "outputs": [
    {
     "name": "stdout",
     "output_type": "stream",
     "text": [
      "Epoch 1/50\n",
      "\u001B[1m38/38\u001B[0m \u001B[32m━━━━━━━━━━━━━━━━━━━━\u001B[0m\u001B[37m\u001B[0m \u001B[1m4s\u001B[0m 20ms/step - loss: 0.1788 - val_loss: 0.0457\n",
      "Epoch 2/50\n",
      "\u001B[1m38/38\u001B[0m \u001B[32m━━━━━━━━━━━━━━━━━━━━\u001B[0m\u001B[37m\u001B[0m \u001B[1m0s\u001B[0m 9ms/step - loss: 0.0364 - val_loss: 0.0161\n",
      "Epoch 3/50\n",
      "\u001B[1m38/38\u001B[0m \u001B[32m━━━━━━━━━━━━━━━━━━━━\u001B[0m\u001B[37m\u001B[0m \u001B[1m0s\u001B[0m 9ms/step - loss: 0.0137 - val_loss: 0.0074\n",
      "Epoch 4/50\n",
      "\u001B[1m38/38\u001B[0m \u001B[32m━━━━━━━━━━━━━━━━━━━━\u001B[0m\u001B[37m\u001B[0m \u001B[1m0s\u001B[0m 9ms/step - loss: 0.0056 - val_loss: 0.0050\n",
      "Epoch 5/50\n",
      "\u001B[1m38/38\u001B[0m \u001B[32m━━━━━━━━━━━━━━━━━━━━\u001B[0m\u001B[37m\u001B[0m \u001B[1m0s\u001B[0m 9ms/step - loss: 0.0041 - val_loss: 0.0047\n",
      "Epoch 6/50\n",
      "\u001B[1m38/38\u001B[0m \u001B[32m━━━━━━━━━━━━━━━━━━━━\u001B[0m\u001B[37m\u001B[0m \u001B[1m0s\u001B[0m 9ms/step - loss: 0.0037 - val_loss: 0.0045\n",
      "Epoch 7/50\n",
      "\u001B[1m38/38\u001B[0m \u001B[32m━━━━━━━━━━━━━━━━━━━━\u001B[0m\u001B[37m\u001B[0m \u001B[1m0s\u001B[0m 9ms/step - loss: 0.0035 - val_loss: 0.0044\n",
      "Epoch 8/50\n",
      "\u001B[1m38/38\u001B[0m \u001B[32m━━━━━━━━━━━━━━━━━━━━\u001B[0m\u001B[37m\u001B[0m \u001B[1m0s\u001B[0m 10ms/step - loss: 0.0035 - val_loss: 0.0045\n",
      "Epoch 9/50\n",
      "\u001B[1m38/38\u001B[0m \u001B[32m━━━━━━━━━━━━━━━━━━━━\u001B[0m\u001B[37m\u001B[0m \u001B[1m0s\u001B[0m 10ms/step - loss: 0.0034 - val_loss: 0.0042\n",
      "Epoch 10/50\n",
      "\u001B[1m38/38\u001B[0m \u001B[32m━━━━━━━━━━━━━━━━━━━━\u001B[0m\u001B[37m\u001B[0m \u001B[1m0s\u001B[0m 10ms/step - loss: 0.0032 - val_loss: 0.0037\n",
      "Epoch 11/50\n",
      "\u001B[1m38/38\u001B[0m \u001B[32m━━━━━━━━━━━━━━━━━━━━\u001B[0m\u001B[37m\u001B[0m \u001B[1m0s\u001B[0m 9ms/step - loss: 0.0030 - val_loss: 0.0033\n",
      "Epoch 12/50\n",
      "\u001B[1m38/38\u001B[0m \u001B[32m━━━━━━━━━━━━━━━━━━━━\u001B[0m\u001B[37m\u001B[0m \u001B[1m0s\u001B[0m 9ms/step - loss: 0.0026 - val_loss: 0.0030\n",
      "Epoch 13/50\n",
      "\u001B[1m38/38\u001B[0m \u001B[32m━━━━━━━━━━━━━━━━━━━━\u001B[0m\u001B[37m\u001B[0m \u001B[1m0s\u001B[0m 9ms/step - loss: 0.0027 - val_loss: 0.0029\n",
      "Epoch 14/50\n",
      "\u001B[1m38/38\u001B[0m \u001B[32m━━━━━━━━━━━━━━━━━━━━\u001B[0m\u001B[37m\u001B[0m \u001B[1m0s\u001B[0m 9ms/step - loss: 0.0023 - val_loss: 0.0029\n",
      "Epoch 15/50\n",
      "\u001B[1m38/38\u001B[0m \u001B[32m━━━━━━━━━━━━━━━━━━━━\u001B[0m\u001B[37m\u001B[0m \u001B[1m0s\u001B[0m 9ms/step - loss: 0.0024 - val_loss: 0.0027\n",
      "Epoch 16/50\n",
      "\u001B[1m38/38\u001B[0m \u001B[32m━━━━━━━━━━━━━━━━━━━━\u001B[0m\u001B[37m\u001B[0m \u001B[1m0s\u001B[0m 9ms/step - loss: 0.0023 - val_loss: 0.0027\n",
      "Epoch 17/50\n",
      "\u001B[1m38/38\u001B[0m \u001B[32m━━━━━━━━━━━━━━━━━━━━\u001B[0m\u001B[37m\u001B[0m \u001B[1m0s\u001B[0m 9ms/step - loss: 0.0021 - val_loss: 0.0026\n",
      "Epoch 18/50\n",
      "\u001B[1m38/38\u001B[0m \u001B[32m━━━━━━━━━━━━━━━━━━━━\u001B[0m\u001B[37m\u001B[0m \u001B[1m0s\u001B[0m 10ms/step - loss: 0.0021 - val_loss: 0.0026\n",
      "Epoch 19/50\n",
      "\u001B[1m38/38\u001B[0m \u001B[32m━━━━━━━━━━━━━━━━━━━━\u001B[0m\u001B[37m\u001B[0m \u001B[1m0s\u001B[0m 10ms/step - loss: 0.0020 - val_loss: 0.0025\n",
      "Epoch 20/50\n",
      "\u001B[1m38/38\u001B[0m \u001B[32m━━━━━━━━━━━━━━━━━━━━\u001B[0m\u001B[37m\u001B[0m \u001B[1m0s\u001B[0m 10ms/step - loss: 0.0020 - val_loss: 0.0026\n",
      "Epoch 21/50\n",
      "\u001B[1m38/38\u001B[0m \u001B[32m━━━━━━━━━━━━━━━━━━━━\u001B[0m\u001B[37m\u001B[0m \u001B[1m0s\u001B[0m 10ms/step - loss: 0.0020 - val_loss: 0.0025\n",
      "Epoch 22/50\n",
      "\u001B[1m38/38\u001B[0m \u001B[32m━━━━━━━━━━━━━━━━━━━━\u001B[0m\u001B[37m\u001B[0m \u001B[1m0s\u001B[0m 12ms/step - loss: 0.0021 - val_loss: 0.0025\n",
      "Epoch 23/50\n",
      "\u001B[1m38/38\u001B[0m \u001B[32m━━━━━━━━━━━━━━━━━━━━\u001B[0m\u001B[37m\u001B[0m \u001B[1m0s\u001B[0m 10ms/step - loss: 0.0020 - val_loss: 0.0025\n",
      "Epoch 24/50\n",
      "\u001B[1m38/38\u001B[0m \u001B[32m━━━━━━━━━━━━━━━━━━━━\u001B[0m\u001B[37m\u001B[0m \u001B[1m0s\u001B[0m 10ms/step - loss: 0.0020 - val_loss: 0.0025\n",
      "Epoch 25/50\n",
      "\u001B[1m38/38\u001B[0m \u001B[32m━━━━━━━━━━━━━━━━━━━━\u001B[0m\u001B[37m\u001B[0m \u001B[1m0s\u001B[0m 10ms/step - loss: 0.0020 - val_loss: 0.0025\n",
      "Epoch 26/50\n",
      "\u001B[1m38/38\u001B[0m \u001B[32m━━━━━━━━━━━━━━━━━━━━\u001B[0m\u001B[37m\u001B[0m \u001B[1m0s\u001B[0m 10ms/step - loss: 0.0021 - val_loss: 0.0025\n",
      "Epoch 27/50\n",
      "\u001B[1m38/38\u001B[0m \u001B[32m━━━━━━━━━━━━━━━━━━━━\u001B[0m\u001B[37m\u001B[0m \u001B[1m0s\u001B[0m 10ms/step - loss: 0.0020 - val_loss: 0.0025\n",
      "Epoch 28/50\n",
      "\u001B[1m38/38\u001B[0m \u001B[32m━━━━━━━━━━━━━━━━━━━━\u001B[0m\u001B[37m\u001B[0m \u001B[1m0s\u001B[0m 9ms/step - loss: 0.0020 - val_loss: 0.0025\n",
      "Epoch 29/50\n",
      "\u001B[1m38/38\u001B[0m \u001B[32m━━━━━━━━━━━━━━━━━━━━\u001B[0m\u001B[37m\u001B[0m \u001B[1m0s\u001B[0m 9ms/step - loss: 0.0019 - val_loss: 0.0025\n",
      "Epoch 30/50\n",
      "\u001B[1m38/38\u001B[0m \u001B[32m━━━━━━━━━━━━━━━━━━━━\u001B[0m\u001B[37m\u001B[0m \u001B[1m0s\u001B[0m 9ms/step - loss: 0.0020 - val_loss: 0.0025\n",
      "Epoch 31/50\n",
      "\u001B[1m38/38\u001B[0m \u001B[32m━━━━━━━━━━━━━━━━━━━━\u001B[0m\u001B[37m\u001B[0m \u001B[1m0s\u001B[0m 10ms/step - loss: 0.0020 - val_loss: 0.0025\n",
      "Epoch 32/50\n",
      "\u001B[1m38/38\u001B[0m \u001B[32m━━━━━━━━━━━━━━━━━━━━\u001B[0m\u001B[37m\u001B[0m \u001B[1m1s\u001B[0m 12ms/step - loss: 0.0019 - val_loss: 0.0024\n",
      "Epoch 33/50\n",
      "\u001B[1m38/38\u001B[0m \u001B[32m━━━━━━━━━━━━━━━━━━━━\u001B[0m\u001B[37m\u001B[0m \u001B[1m0s\u001B[0m 11ms/step - loss: 0.0019 - val_loss: 0.0024\n",
      "Epoch 34/50\n",
      "\u001B[1m38/38\u001B[0m \u001B[32m━━━━━━━━━━━━━━━━━━━━\u001B[0m\u001B[37m\u001B[0m \u001B[1m0s\u001B[0m 12ms/step - loss: 0.0020 - val_loss: 0.0024\n",
      "Epoch 35/50\n",
      "\u001B[1m38/38\u001B[0m \u001B[32m━━━━━━━━━━━━━━━━━━━━\u001B[0m\u001B[37m\u001B[0m \u001B[1m1s\u001B[0m 14ms/step - loss: 0.0019 - val_loss: 0.0024\n",
      "Epoch 36/50\n",
      "\u001B[1m38/38\u001B[0m \u001B[32m━━━━━━━━━━━━━━━━━━━━\u001B[0m\u001B[37m\u001B[0m \u001B[1m1s\u001B[0m 14ms/step - loss: 0.0019 - val_loss: 0.0024\n",
      "Epoch 37/50\n",
      "\u001B[1m38/38\u001B[0m \u001B[32m━━━━━━━━━━━━━━━━━━━━\u001B[0m\u001B[37m\u001B[0m \u001B[1m1s\u001B[0m 13ms/step - loss: 0.0020 - val_loss: 0.0024\n",
      "Epoch 38/50\n",
      "\u001B[1m38/38\u001B[0m \u001B[32m━━━━━━━━━━━━━━━━━━━━\u001B[0m\u001B[37m\u001B[0m \u001B[1m1s\u001B[0m 13ms/step - loss: 0.0019 - val_loss: 0.0024\n",
      "Epoch 39/50\n",
      "\u001B[1m38/38\u001B[0m \u001B[32m━━━━━━━━━━━━━━━━━━━━\u001B[0m\u001B[37m\u001B[0m \u001B[1m0s\u001B[0m 12ms/step - loss: 0.0019 - val_loss: 0.0025\n",
      "Epoch 40/50\n",
      "\u001B[1m38/38\u001B[0m \u001B[32m━━━━━━━━━━━━━━━━━━━━\u001B[0m\u001B[37m\u001B[0m \u001B[1m0s\u001B[0m 12ms/step - loss: 0.0019 - val_loss: 0.0024\n",
      "Epoch 41/50\n",
      "\u001B[1m38/38\u001B[0m \u001B[32m━━━━━━━━━━━━━━━━━━━━\u001B[0m\u001B[37m\u001B[0m \u001B[1m0s\u001B[0m 12ms/step - loss: 0.0019 - val_loss: 0.0024\n",
      "Epoch 42/50\n",
      "\u001B[1m38/38\u001B[0m \u001B[32m━━━━━━━━━━━━━━━━━━━━\u001B[0m\u001B[37m\u001B[0m \u001B[1m0s\u001B[0m 11ms/step - loss: 0.0019 - val_loss: 0.0024\n",
      "Epoch 43/50\n",
      "\u001B[1m38/38\u001B[0m \u001B[32m━━━━━━━━━━━━━━━━━━━━\u001B[0m\u001B[37m\u001B[0m \u001B[1m0s\u001B[0m 12ms/step - loss: 0.0019 - val_loss: 0.0023\n",
      "Epoch 44/50\n",
      "\u001B[1m38/38\u001B[0m \u001B[32m━━━━━━━━━━━━━━━━━━━━\u001B[0m\u001B[37m\u001B[0m \u001B[1m0s\u001B[0m 12ms/step - loss: 0.0018 - val_loss: 0.0023\n",
      "Epoch 45/50\n",
      "\u001B[1m38/38\u001B[0m \u001B[32m━━━━━━━━━━━━━━━━━━━━\u001B[0m\u001B[37m\u001B[0m \u001B[1m0s\u001B[0m 12ms/step - loss: 0.0018 - val_loss: 0.0023\n",
      "Epoch 46/50\n",
      "\u001B[1m38/38\u001B[0m \u001B[32m━━━━━━━━━━━━━━━━━━━━\u001B[0m\u001B[37m\u001B[0m \u001B[1m0s\u001B[0m 12ms/step - loss: 0.0018 - val_loss: 0.0022\n",
      "Epoch 47/50\n",
      "\u001B[1m38/38\u001B[0m \u001B[32m━━━━━━━━━━━━━━━━━━━━\u001B[0m\u001B[37m\u001B[0m \u001B[1m0s\u001B[0m 12ms/step - loss: 0.0018 - val_loss: 0.0023\n",
      "Epoch 48/50\n",
      "\u001B[1m38/38\u001B[0m \u001B[32m━━━━━━━━━━━━━━━━━━━━\u001B[0m\u001B[37m\u001B[0m \u001B[1m0s\u001B[0m 12ms/step - loss: 0.0018 - val_loss: 0.0023\n",
      "Epoch 49/50\n",
      "\u001B[1m38/38\u001B[0m \u001B[32m━━━━━━━━━━━━━━━━━━━━\u001B[0m\u001B[37m\u001B[0m \u001B[1m0s\u001B[0m 12ms/step - loss: 0.0018 - val_loss: 0.0022\n",
      "Epoch 50/50\n",
      "\u001B[1m38/38\u001B[0m \u001B[32m━━━━━━━━━━━━━━━━━━━━\u001B[0m\u001B[37m\u001B[0m \u001B[1m0s\u001B[0m 11ms/step - loss: 0.0017 - val_loss: 0.0022\n"
     ]
    },
    {
     "data": {
      "text/plain": [
       "<keras.src.callbacks.history.History at 0x20de70c9fa0>"
      ]
     },
     "execution_count": 98,
     "metadata": {},
     "output_type": "execute_result"
    }
   ],
   "execution_count": 98
  },
  {
   "metadata": {
    "ExecuteTime": {
     "end_time": "2024-10-14T01:13:19.152837Z",
     "start_time": "2024-10-14T01:13:18.247332Z"
    }
   },
   "cell_type": "code",
   "source": [
    "encoder_model = Model(inputs = auto_encode_input, outputs = latent_space)\n",
    "x_test_pred = autoecoder.predict(x_test)"
   ],
   "id": "2d21d34897dac7bd",
   "outputs": [
    {
     "name": "stdout",
     "output_type": "stream",
     "text": [
      "\u001B[1m10/10\u001B[0m \u001B[32m━━━━━━━━━━━━━━━━━━━━\u001B[0m\u001B[37m\u001B[0m \u001B[1m1s\u001B[0m 52ms/step\n"
     ]
    }
   ],
   "execution_count": 99
  },
  {
   "metadata": {
    "ExecuteTime": {
     "end_time": "2024-10-14T01:13:19.651624Z",
     "start_time": "2024-10-14T01:13:19.185100Z"
    }
   },
   "cell_type": "code",
   "source": [
    "encoded_data = encoder_model.predict(x_test)\n",
    "print(encoded_data.shape)"
   ],
   "id": "23d21da1ac0e4bf4",
   "outputs": [
    {
     "name": "stdout",
     "output_type": "stream",
     "text": [
      "\u001B[1m10/10\u001B[0m \u001B[32m━━━━━━━━━━━━━━━━━━━━\u001B[0m\u001B[37m\u001B[0m \u001B[1m0s\u001B[0m 24ms/step\n",
      "(300, 16)\n"
     ]
    }
   ],
   "execution_count": 100
  },
  {
   "metadata": {
    "ExecuteTime": {
     "end_time": "2024-10-14T01:13:19.727699Z",
     "start_time": "2024-10-14T01:13:19.713214Z"
    }
   },
   "cell_type": "code",
   "source": "print(encoded_data)",
   "id": "36b4fa4fae08f82a",
   "outputs": [
    {
     "name": "stdout",
     "output_type": "stream",
     "text": [
      "[[0.00000000e+00 1.22716725e+00 9.66423810e-01 ... 7.06731975e-01\n",
      "  1.23777294e+00 1.79395843e+00]\n",
      " [1.49447657e-03 9.91165638e-02 4.79969867e-02 ... 1.70213774e-01\n",
      "  1.16614476e-01 1.59232646e-01]\n",
      " [0.00000000e+00 1.54019818e-01 1.30985245e-01 ... 1.62578791e-01\n",
      "  2.17108771e-01 3.13007176e-01]\n",
      " ...\n",
      " [0.00000000e+00 1.84805661e-01 8.56346041e-02 ... 2.23597601e-01\n",
      "  2.13350594e-01 3.00899178e-01]\n",
      " [0.00000000e+00 1.13277245e+00 1.31807745e-01 ... 1.08564579e+00\n",
      "  9.38405573e-01 1.47055233e+00]\n",
      " [0.00000000e+00 1.04866564e+00 5.80721259e-01 ... 6.73539460e-01\n",
      "  1.02272427e+00 1.51395082e+00]]\n"
     ]
    }
   ],
   "execution_count": 101
  },
  {
   "metadata": {
    "ExecuteTime": {
     "end_time": "2024-10-14T01:13:19.743598Z",
     "start_time": "2024-10-14T01:13:19.733598Z"
    }
   },
   "cell_type": "code",
   "source": [
    "mse = np.mean(np.power(x_test - x_test_pred, 2), axis=(1, 2))\n",
    "mae = np.mean(np.abs(x_test - x_test_pred), axis=(1, 2))\n",
    "\n",
    "# Print average reconstruction error\n",
    "print(\"Average MSE reconstruction error:\", np.mean(mse))\n",
    "print(\"Average MAE reconstruction error:\", np.mean(mae))"
   ],
   "id": "b95bad564b1aa99d",
   "outputs": [
    {
     "name": "stdout",
     "output_type": "stream",
     "text": [
      "Average MSE reconstruction error: 0.002200648\n",
      "Average MAE reconstruction error: 0.025314836\n"
     ]
    }
   ],
   "execution_count": 102
  },
  {
   "metadata": {
    "ExecuteTime": {
     "end_time": "2024-10-14T01:13:19.791598Z",
     "start_time": "2024-10-14T01:13:19.777724Z"
    }
   },
   "cell_type": "code",
   "source": "",
   "id": "43bf96e5f9a85647",
   "outputs": [],
   "execution_count": null
  },
  {
   "metadata": {
    "ExecuteTime": {
     "end_time": "2024-10-14T01:17:21.065888Z",
     "start_time": "2024-10-14T01:17:20.874668Z"
    }
   },
   "cell_type": "code",
   "source": [
    "# compressed_x_train = encoder_model.predict(x_train)\n",
    "# compressed_x_test = encoder_model.predict(x_test)"
   ],
   "id": "882cd779768488ba",
   "outputs": [
    {
     "name": "stdout",
     "output_type": "stream",
     "text": [
      "\u001B[1m38/38\u001B[0m \u001B[32m━━━━━━━━━━━━━━━━━━━━\u001B[0m\u001B[37m\u001B[0m \u001B[1m0s\u001B[0m 2ms/step\n",
      "\u001B[1m10/10\u001B[0m \u001B[32m━━━━━━━━━━━━━━━━━━━━\u001B[0m\u001B[37m\u001B[0m \u001B[1m0s\u001B[0m 2ms/step \n"
     ]
    }
   ],
   "execution_count": 105
  },
  {
   "metadata": {
    "ExecuteTime": {
     "end_time": "2024-10-14T01:17:25.353447Z",
     "start_time": "2024-10-14T01:17:25.222648Z"
    }
   },
   "cell_type": "code",
   "source": [
    "import pickle\n",
    "\n",
    "compressed_x_train = encoder_model.predict(x_train).reshape(x_train.shape[0], -1)\n",
    "compressed_x_test = encoder_model.predict(x_test).reshape(x_train.shape[0], -1)\n",
    "\n",
    "# with open(\"compressed_x_train.pkl\", \"wb\") as f:\n",
    "#     pickle.dump(compressed_x_train, f)\n",
    "# with open(\"compressed_x_test.pkl\", \"wb\") as f:\n",
    "#     pickle.dump(compressed_x_test, f)\n"
   ],
   "id": "5d0cd6953c0f5b7b",
   "outputs": [
    {
     "name": "stdout",
     "output_type": "stream",
     "text": [
      "\u001B[1m38/38\u001B[0m \u001B[32m━━━━━━━━━━━━━━━━━━━━\u001B[0m\u001B[37m\u001B[0m \u001B[1m0s\u001B[0m 2ms/step\n"
     ]
    }
   ],
   "execution_count": 106
  }
 ],
 "metadata": {
  "kernelspec": {
   "display_name": "Python 3",
   "language": "python",
   "name": "python3"
  },
  "language_info": {
   "codemirror_mode": {
    "name": "ipython",
    "version": 2
   },
   "file_extension": ".py",
   "mimetype": "text/x-python",
   "name": "python",
   "nbconvert_exporter": "python",
   "pygments_lexer": "ipython2",
   "version": "2.7.6"
  }
 },
 "nbformat": 4,
 "nbformat_minor": 5
}
